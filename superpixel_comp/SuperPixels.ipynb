{
 "cells": [
  {
   "cell_type": "code",
   "execution_count": 38,
   "metadata": {
    "collapsed": false
   },
   "outputs": [],
   "source": [
    "import numpy as np\n",
    "import matplotlib.pyplot as plt\n",
    "from sklearn.cluster import MeanShift\n",
    "from skimage.color import rgb2grey\n",
    "from skimage.feature import peak_local_max\n",
    "from skimage.future.graph import cut_normalized\n",
    "from skimage.morphology import watershed\n",
    "from skimage.segmentation import felzenszwalb, slic, quickshift, mark_boundaries\n",
    "from IPython.html.widgets import interact, interactive, fixed\n",
    "from IPython.html import widgets\n",
    "from PIL.Image import open\n",
    "%matplotlib inline\n",
    "plt.rcParams['figure.figsize'] = (10, 6)"
   ]
  },
  {
   "cell_type": "code",
   "execution_count": null,
   "metadata": {
    "collapsed": false
   },
   "outputs": [],
   "source": [
    "# Put image in here\n",
    "col_im = np.asarray(open(\"Flowers.tiff\"))[:,:,0:3]\n",
    "grey_im = rgb2grey(col_im)\n",
    "plt.imshow(col_im)"
   ]
  },
  {
   "cell_type": "markdown",
   "metadata": {},
   "source": [
    "In this example, the following 6 different superpixel methods are compared:\n",
    "\n",
    "- **Watershed** (Vincent and Soille, 1991)\n",
    "- **Normalised Cuts** (Shi and Malik, 2000)\n",
    "- **Mean Shift** (Comaniciu and Meer, 2002)\n",
    "- **Felzenszwalb's efficient graph based image segmentation** (Felzenszwalb et al, 2004)\n",
    "- **Quick Shift** (Vedaldi and Soatto, 2008)\n",
    "- **SLIC Superpixels** (Achanta et al, 2012)"
   ]
  },
  {
   "cell_type": "markdown",
   "metadata": {},
   "source": [
    "# Superpixel methods compared"
   ]
  },
  {
   "cell_type": "code",
   "execution_count": null,
   "metadata": {
    "collapsed": true
   },
   "outputs": [],
   "source": [
    "# do something interative here"
   ]
  },
  {
   "cell_type": "markdown",
   "metadata": {},
   "source": [
    "# Individual Method Parameterisation"
   ]
  },
  {
   "cell_type": "markdown",
   "metadata": {},
   "source": [
    "## Watershed"
   ]
  },
  {
   "cell_type": "markdown",
   "metadata": {
    "collapsed": true
   },
   "source": [
    "### No variables\n",
    "In this case, markers (areas to \"flood\") are chosen as local minima of the image."
   ]
  },
  {
   "cell_type": "code",
   "execution_count": null,
   "metadata": {
    "collapsed": false
   },
   "outputs": [],
   "source": [
    "def find_local_minima(image):\n",
    "    # Invert image so we are searching for maximas\n",
    "    im_inv = np.invert(image)\n",
    "    \n",
    "    # Find peaks in each of r,g,b\n",
    "    minima = peak_local_max(im_inv)\n",
    "    \n",
    "    # Find where peaks in rgb overlap"
   ]
  },
  {
   "cell_type": "markdown",
   "metadata": {},
   "source": [
    "## Normalised Cuts"
   ]
  },
  {
   "cell_type": "code",
   "execution_count": null,
   "metadata": {
    "collapsed": true
   },
   "outputs": [],
   "source": [
    "# normalised cuts interative"
   ]
  },
  {
   "cell_type": "markdown",
   "metadata": {},
   "source": [
    "## Mean Shift"
   ]
  },
  {
   "cell_type": "code",
   "execution_count": null,
   "metadata": {
    "collapsed": true
   },
   "outputs": [],
   "source": [
    "# mean shift here"
   ]
  },
  {
   "cell_type": "markdown",
   "metadata": {},
   "source": [
    "## Felzenszwalb Method"
   ]
  },
  {
   "cell_type": "markdown",
   "metadata": {},
   "source": [
    "### Variables\n",
    "\n",
    "* Scale: Higher scale means less and larger segments\n",
    "* Sigma: diameter of kernel used for Gaussian smoothing\n",
    "* Min_size: Minimum component size"
   ]
  },
  {
   "cell_type": "code",
   "execution_count": null,
   "metadata": {
    "collapsed": false,
    "scrolled": true
   },
   "outputs": [],
   "source": [
    "@interact(im=fixed(col_im),\n",
    "          scale=widgets.FloatSlider(min=0.5, max=3, step=0.1, value=2),\n",
    "          sigma=widgets.FloatSlider(min=0., max=2, step=0.1, value=0.5),\n",
    "          min_size=widgets.IntSlider(min=3, max=20, step=1, value=3),\n",
    "          display_im=fixed(grey_im))\n",
    "def felz(im, scale, sigma, min_size, display_im):\n",
    "    labels = felzenszwalb(im, scale, sigma, min_size)\n",
    "    marked = mark_boundaries(display_im, labels)\n",
    "    plt.imshow(marked)"
   ]
  },
  {
   "cell_type": "markdown",
   "metadata": {},
   "source": [
    "## Quick Shift"
   ]
  },
  {
   "cell_type": "markdown",
   "metadata": {
    "collapsed": true
   },
   "source": [
    "### Variables\n",
    "\n",
    "* Ratio: Balances color-space and image-space proximity. Higher values give more weight to color-space.\n",
    "* kernel_size: diameter of kernel. Higher means fewer clusters.\n",
    "* max_dist: Cut-off point for data distances. Higher means fewer clusters.\n",
    "\n",
    "No smoothing"
   ]
  },
  {
   "cell_type": "code",
   "execution_count": null,
   "metadata": {
    "collapsed": false
   },
   "outputs": [],
   "source": [
    "@interact(im=fixed(col_im),\n",
    "          ratio=widgets.FloatSlider(min=0, max=1, step=0.1, value=1),\n",
    "          max_dist=widgets.IntSlider(min=1, max=20, step=1, value=10),\n",
    "          display_im=fixed(grey_im))\n",
    "def quick(im, ratio, max_dist, display_im):\n",
    "    labels = quickshift(im, ratio, max_dist)\n",
    "    marked = mark_boundaries(display_im, labels)\n",
    "    plt.imshow(marked)"
   ]
  },
  {
   "cell_type": "markdown",
   "metadata": {},
   "source": [
    "## SLIC Superpixels"
   ]
  },
  {
   "cell_type": "markdown",
   "metadata": {},
   "source": [
    "### Variables\n",
    "\n",
    "* n_segments: Number of segments (on average) to split the image into\n",
    "* Compactness: Higher values make segments more square"
   ]
  },
  {
   "cell_type": "code",
   "execution_count": null,
   "metadata": {
    "collapsed": false
   },
   "outputs": [],
   "source": [
    "@interact(im=fixed(grey_im),\n",
    "          n_segments=widgets.IntSlider(min=8, max=256, step=8, value=32),\n",
    "          compactness=widgets.FloatSlider(min=0.1, max=15, step=0.1, value=10.0))\n",
    "def SLIC(im,n_segments, compactness):\n",
    "    labels = slic(im, n_segments, compactness)\n",
    "    marked = mark_boundaries(grey_im, labels)\n",
    "    plt.imshow(marked)"
   ]
  },
  {
   "cell_type": "code",
   "execution_count": null,
   "metadata": {
    "collapsed": true
   },
   "outputs": [],
   "source": []
  }
 ],
 "metadata": {
  "kernelspec": {
   "display_name": "Python 3",
   "language": "python",
   "name": "python3"
  },
  "language_info": {
   "codemirror_mode": {
    "name": "ipython",
    "version": 3
   },
   "file_extension": ".py",
   "mimetype": "text/x-python",
   "name": "python",
   "nbconvert_exporter": "python",
   "pygments_lexer": "ipython3",
   "version": "3.4.4"
  }
 },
 "nbformat": 4,
 "nbformat_minor": 0
}
